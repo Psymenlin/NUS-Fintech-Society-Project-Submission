{
 "cells": [
  {
   "cell_type": "code",
   "execution_count": 1,
   "metadata": {},
   "outputs": [],
   "source": [
    "import requests\n",
    "import pandas as pd\n",
    "import re"
   ]
  },
  {
   "cell_type": "code",
   "execution_count": 2,
   "metadata": {},
   "outputs": [],
   "source": [
    "URL = \"https://www.biopharmcatalyst.com/company/ABBV/news\"\n",
    "page = requests.get(URL, headers={'User-Agent': 'Mozilla/5.0'})\n",
    "\n",
    "from bs4 import BeautifulSoup\n",
    "soup = BeautifulSoup(page.content, \"html.parser\")"
   ]
  },
  {
   "cell_type": "code",
   "execution_count": 3,
   "metadata": {},
   "outputs": [],
   "source": [
    "date_elements = soup.find_all(\"time\", class_=\"news-item__time\")\n",
    "text_elements = soup.find_all(\"a\", class_=\"news-item__link\")"
   ]
  },
  {
   "cell_type": "code",
   "execution_count": 4,
   "metadata": {},
   "outputs": [],
   "source": [
    "news = pd.DataFrame(text_elements)"
   ]
  },
  {
   "cell_type": "code",
   "execution_count": 5,
   "metadata": {},
   "outputs": [],
   "source": [
    "date = pd.DataFrame(date_elements)"
   ]
  },
  {
   "cell_type": "code",
   "execution_count": 6,
   "metadata": {},
   "outputs": [],
   "source": [
    "df = pd.concat([date,news],1)"
   ]
  },
  {
   "cell_type": "code",
   "execution_count": 7,
   "metadata": {},
   "outputs": [],
   "source": [
    "df.columns = ['date', 'news']"
   ]
  },
  {
   "cell_type": "code",
   "execution_count": 8,
   "metadata": {},
   "outputs": [],
   "source": [
    "df['date'] = pd.to_datetime(df['date'])"
   ]
  },
  {
   "cell_type": "code",
   "execution_count": 9,
   "metadata": {},
   "outputs": [
    {
     "data": {
      "text/html": [
       "<div>\n",
       "<style scoped>\n",
       "    .dataframe tbody tr th:only-of-type {\n",
       "        vertical-align: middle;\n",
       "    }\n",
       "\n",
       "    .dataframe tbody tr th {\n",
       "        vertical-align: top;\n",
       "    }\n",
       "\n",
       "    .dataframe thead th {\n",
       "        text-align: right;\n",
       "    }\n",
       "</style>\n",
       "<table border=\"1\" class=\"dataframe\">\n",
       "  <thead>\n",
       "    <tr style=\"text-align: right;\">\n",
       "      <th></th>\n",
       "      <th>date</th>\n",
       "      <th>news</th>\n",
       "    </tr>\n",
       "  </thead>\n",
       "  <tbody>\n",
       "    <tr>\n",
       "      <th>0</th>\n",
       "      <td>2021-10-15</td>\n",
       "      <td>AbbVie Receives CHMP Positive Opinion for Risa...</td>\n",
       "    </tr>\n",
       "    <tr>\n",
       "      <th>1</th>\n",
       "      <td>2021-10-11</td>\n",
       "      <td>Allergan Aesthetics Launches Series of Initiat...</td>\n",
       "    </tr>\n",
       "    <tr>\n",
       "      <th>2</th>\n",
       "      <td>2021-10-07</td>\n",
       "      <td>Health Canada Approves the Use of RINVOQ® (upa...</td>\n",
       "    </tr>\n",
       "    <tr>\n",
       "      <th>3</th>\n",
       "      <td>2021-10-07</td>\n",
       "      <td>AbbVie's Upadacitinib (RINVOQ®) Met Primary an...</td>\n",
       "    </tr>\n",
       "    <tr>\n",
       "      <th>4</th>\n",
       "      <td>2021-10-07</td>\n",
       "      <td>AbbVie's RINVOQ® (upadacitinib) Met Primary an...</td>\n",
       "    </tr>\n",
       "    <tr>\n",
       "      <th>...</th>\n",
       "      <td>...</td>\n",
       "      <td>...</td>\n",
       "    </tr>\n",
       "    <tr>\n",
       "      <th>262</th>\n",
       "      <td>2019-09-13</td>\n",
       "      <td>Thinking about buying stock in AbbVie, Aurora ...</td>\n",
       "    </tr>\n",
       "    <tr>\n",
       "      <th>263</th>\n",
       "      <td>2019-09-10</td>\n",
       "      <td>Advances in Biotechnology May Offer Cancer Pat...</td>\n",
       "    </tr>\n",
       "    <tr>\n",
       "      <th>264</th>\n",
       "      <td>2019-09-06</td>\n",
       "      <td>AbbVie Declares Quarterly Dividend</td>\n",
       "    </tr>\n",
       "    <tr>\n",
       "      <th>265</th>\n",
       "      <td>2019-08-29</td>\n",
       "      <td>AbbVie Discontinues Rovalpituzumab Tesirine (R...</td>\n",
       "    </tr>\n",
       "    <tr>\n",
       "      <th>266</th>\n",
       "      <td>2019-08-27</td>\n",
       "      <td>AbbVie to Present at the Morgan Stanley Health...</td>\n",
       "    </tr>\n",
       "  </tbody>\n",
       "</table>\n",
       "<p>267 rows × 2 columns</p>\n",
       "</div>"
      ],
      "text/plain": [
       "          date                                               news\n",
       "0   2021-10-15  AbbVie Receives CHMP Positive Opinion for Risa...\n",
       "1   2021-10-11  Allergan Aesthetics Launches Series of Initiat...\n",
       "2   2021-10-07  Health Canada Approves the Use of RINVOQ® (upa...\n",
       "3   2021-10-07  AbbVie's Upadacitinib (RINVOQ®) Met Primary an...\n",
       "4   2021-10-07  AbbVie's RINVOQ® (upadacitinib) Met Primary an...\n",
       "..         ...                                                ...\n",
       "262 2019-09-13  Thinking about buying stock in AbbVie, Aurora ...\n",
       "263 2019-09-10  Advances in Biotechnology May Offer Cancer Pat...\n",
       "264 2019-09-06                 AbbVie Declares Quarterly Dividend\n",
       "265 2019-08-29  AbbVie Discontinues Rovalpituzumab Tesirine (R...\n",
       "266 2019-08-27  AbbVie to Present at the Morgan Stanley Health...\n",
       "\n",
       "[267 rows x 2 columns]"
      ]
     },
     "execution_count": 9,
     "metadata": {},
     "output_type": "execute_result"
    }
   ],
   "source": [
    "df"
   ]
  },
  {
   "cell_type": "code",
   "execution_count": 10,
   "metadata": {},
   "outputs": [
    {
     "name": "stdout",
     "output_type": "stream",
     "text": [
      "Requirement already satisfied: yfinance in ./opt/anaconda3/lib/python3.7/site-packages (0.1.64)\n",
      "Requirement already satisfied: numpy>=1.15 in ./opt/anaconda3/lib/python3.7/site-packages (from yfinance) (1.19.5)\n",
      "Requirement already satisfied: requests>=2.20 in ./opt/anaconda3/lib/python3.7/site-packages (from yfinance) (2.22.0)\n",
      "Requirement already satisfied: multitasking>=0.0.7 in ./opt/anaconda3/lib/python3.7/site-packages (from yfinance) (0.0.9)\n",
      "Requirement already satisfied: lxml>=4.5.1 in ./opt/anaconda3/lib/python3.7/site-packages (from yfinance) (4.6.3)\n",
      "Requirement already satisfied: pandas>=0.24 in ./opt/anaconda3/lib/python3.7/site-packages (from yfinance) (1.0.1)\n",
      "Requirement already satisfied: certifi>=2017.4.17 in ./opt/anaconda3/lib/python3.7/site-packages (from requests>=2.20->yfinance) (2019.11.28)\n",
      "Requirement already satisfied: urllib3!=1.25.0,!=1.25.1,<1.26,>=1.21.1 in ./opt/anaconda3/lib/python3.7/site-packages (from requests>=2.20->yfinance) (1.25.8)\n",
      "Requirement already satisfied: idna<2.9,>=2.5 in ./opt/anaconda3/lib/python3.7/site-packages (from requests>=2.20->yfinance) (2.8)\n",
      "Requirement already satisfied: chardet<3.1.0,>=3.0.2 in ./opt/anaconda3/lib/python3.7/site-packages (from requests>=2.20->yfinance) (3.0.4)\n",
      "Requirement already satisfied: pytz>=2017.2 in ./opt/anaconda3/lib/python3.7/site-packages (from pandas>=0.24->yfinance) (2019.3)\n",
      "Requirement already satisfied: python-dateutil>=2.6.1 in ./opt/anaconda3/lib/python3.7/site-packages (from pandas>=0.24->yfinance) (2.8.1)\n",
      "Requirement already satisfied: six>=1.5 in ./opt/anaconda3/lib/python3.7/site-packages (from python-dateutil>=2.6.1->pandas>=0.24->yfinance) (1.15.0)\n"
     ]
    }
   ],
   "source": [
    "!pip install yfinance"
   ]
  },
  {
   "cell_type": "code",
   "execution_count": 11,
   "metadata": {},
   "outputs": [],
   "source": [
    "import yfinance as yf"
   ]
  },
  {
   "cell_type": "code",
   "execution_count": 12,
   "metadata": {},
   "outputs": [],
   "source": [
    "start_date = '2019-08-27'"
   ]
  },
  {
   "cell_type": "code",
   "execution_count": 13,
   "metadata": {},
   "outputs": [],
   "source": [
    "end_date = '2021-10-15'"
   ]
  },
  {
   "cell_type": "code",
   "execution_count": 14,
   "metadata": {},
   "outputs": [],
   "source": [
    "ticker = 'ABBV'"
   ]
  },
  {
   "cell_type": "code",
   "execution_count": 15,
   "metadata": {},
   "outputs": [
    {
     "name": "stdout",
     "output_type": "stream",
     "text": [
      "[*********************100%***********************]  1 of 1 completed\n"
     ]
    }
   ],
   "source": [
    "data = yf.download(ticker, start_date, end_date)"
   ]
  },
  {
   "cell_type": "code",
   "execution_count": 16,
   "metadata": {},
   "outputs": [],
   "source": [
    "data = data.reset_index()"
   ]
  },
  {
   "cell_type": "code",
   "execution_count": 17,
   "metadata": {},
   "outputs": [],
   "source": [
    "data.rename(columns = {'Date':'date'}, inplace = True)"
   ]
  },
  {
   "cell_type": "code",
   "execution_count": 18,
   "metadata": {},
   "outputs": [],
   "source": [
    "df = df.merge(data, on = 'date')"
   ]
  },
  {
   "cell_type": "code",
   "execution_count": 19,
   "metadata": {},
   "outputs": [
    {
     "name": "stdout",
     "output_type": "stream",
     "text": [
      "Requirement already satisfied: textblob in ./opt/anaconda3/lib/python3.7/site-packages (0.15.3)\n",
      "Requirement already satisfied: nltk>=3.1 in ./opt/anaconda3/lib/python3.7/site-packages (from textblob) (3.4.5)\n",
      "Requirement already satisfied: six in ./opt/anaconda3/lib/python3.7/site-packages (from nltk>=3.1->textblob) (1.15.0)\n"
     ]
    }
   ],
   "source": [
    "!pip install textblob"
   ]
  },
  {
   "cell_type": "code",
   "execution_count": 20,
   "metadata": {},
   "outputs": [
    {
     "name": "stdout",
     "output_type": "stream",
     "text": [
      "Requirement already satisfied: vaderSentiment in ./opt/anaconda3/lib/python3.7/site-packages (3.3.2)\r\n",
      "Requirement already satisfied: requests in ./opt/anaconda3/lib/python3.7/site-packages (from vaderSentiment) (2.22.0)\r\n",
      "Requirement already satisfied: chardet<3.1.0,>=3.0.2 in ./opt/anaconda3/lib/python3.7/site-packages (from requests->vaderSentiment) (3.0.4)\r\n",
      "Requirement already satisfied: idna<2.9,>=2.5 in ./opt/anaconda3/lib/python3.7/site-packages (from requests->vaderSentiment) (2.8)\r\n",
      "Requirement already satisfied: urllib3!=1.25.0,!=1.25.1,<1.26,>=1.21.1 in ./opt/anaconda3/lib/python3.7/site-packages (from requests->vaderSentiment) (1.25.8)\r\n",
      "Requirement already satisfied: certifi>=2017.4.17 in ./opt/anaconda3/lib/python3.7/site-packages (from requests->vaderSentiment) (2019.11.28)\r\n"
     ]
    }
   ],
   "source": [
    "!pip install vaderSentiment"
   ]
  },
  {
   "cell_type": "code",
   "execution_count": 21,
   "metadata": {},
   "outputs": [],
   "source": [
    "from textblob import TextBlob\n",
    "from vaderSentiment.vaderSentiment import SentimentIntensityAnalyzer\n",
    "from sklearn.model_selection import train_test_split\n",
    "from sklearn.discriminant_analysis import LinearDiscriminantAnalysis"
   ]
  },
  {
   "cell_type": "code",
   "execution_count": 22,
   "metadata": {},
   "outputs": [],
   "source": [
    "def subjectivity(text):\n",
    "    return TextBlob(text).sentiment.subjectivity "
   ]
  },
  {
   "cell_type": "code",
   "execution_count": 23,
   "metadata": {},
   "outputs": [],
   "source": [
    "def polarity(text):\n",
    "    return TextBlob(text).sentiment.polarity "
   ]
  },
  {
   "cell_type": "code",
   "execution_count": 24,
   "metadata": {},
   "outputs": [],
   "source": [
    "df['subjectivity'] = df['news'].apply(subjectivity)"
   ]
  },
  {
   "cell_type": "code",
   "execution_count": 25,
   "metadata": {},
   "outputs": [],
   "source": [
    "df['polarity'] = df['news'].apply(polarity)"
   ]
  },
  {
   "cell_type": "code",
   "execution_count": 26,
   "metadata": {},
   "outputs": [],
   "source": [
    "def sentimentscores(text):\n",
    "    sia = SentimentIntensityAnalyzer()\n",
    "    sentiment = sia.polarity_scores(text)\n",
    "    return sentiment"
   ]
  },
  {
   "cell_type": "code",
   "execution_count": 27,
   "metadata": {},
   "outputs": [],
   "source": [
    "negative = []\n",
    "neutral = []\n",
    "positive = []\n",
    "\n",
    "for i in range(0, len(df['news'])):\n",
    "    score = sentimentscores(df['news'][i])\n",
    "    negative.append(score['neg'])\n",
    "    neutral.append(score['neu'])\n",
    "    positive.append(score['pos'])"
   ]
  },
  {
   "cell_type": "code",
   "execution_count": 28,
   "metadata": {},
   "outputs": [],
   "source": [
    "df['negative'] = negative\n",
    "df['neutral'] = neutral \n",
    "df['positive'] = positive"
   ]
  },
  {
   "cell_type": "code",
   "execution_count": 29,
   "metadata": {},
   "outputs": [
    {
     "data": {
      "text/html": [
       "<div>\n",
       "<style scoped>\n",
       "    .dataframe tbody tr th:only-of-type {\n",
       "        vertical-align: middle;\n",
       "    }\n",
       "\n",
       "    .dataframe tbody tr th {\n",
       "        vertical-align: top;\n",
       "    }\n",
       "\n",
       "    .dataframe thead th {\n",
       "        text-align: right;\n",
       "    }\n",
       "</style>\n",
       "<table border=\"1\" class=\"dataframe\">\n",
       "  <thead>\n",
       "    <tr style=\"text-align: right;\">\n",
       "      <th></th>\n",
       "      <th>date</th>\n",
       "      <th>news</th>\n",
       "      <th>Open</th>\n",
       "      <th>High</th>\n",
       "      <th>Low</th>\n",
       "      <th>Close</th>\n",
       "      <th>Adj Close</th>\n",
       "      <th>Volume</th>\n",
       "      <th>subjectivity</th>\n",
       "      <th>polarity</th>\n",
       "      <th>negative</th>\n",
       "      <th>neutral</th>\n",
       "      <th>positive</th>\n",
       "    </tr>\n",
       "  </thead>\n",
       "  <tbody>\n",
       "    <tr>\n",
       "      <th>0</th>\n",
       "      <td>2021-10-11</td>\n",
       "      <td>Allergan Aesthetics Launches Series of Initiat...</td>\n",
       "      <td>111.139999</td>\n",
       "      <td>111.400002</td>\n",
       "      <td>110.279999</td>\n",
       "      <td>110.339996</td>\n",
       "      <td>109.018311</td>\n",
       "      <td>4613800</td>\n",
       "      <td>0.000000</td>\n",
       "      <td>0.000</td>\n",
       "      <td>0.273</td>\n",
       "      <td>0.559</td>\n",
       "      <td>0.168</td>\n",
       "    </tr>\n",
       "    <tr>\n",
       "      <th>1</th>\n",
       "      <td>2021-10-07</td>\n",
       "      <td>Health Canada Approves the Use of RINVOQ® (upa...</td>\n",
       "      <td>109.779999</td>\n",
       "      <td>111.790001</td>\n",
       "      <td>109.559998</td>\n",
       "      <td>110.870003</td>\n",
       "      <td>109.541969</td>\n",
       "      <td>7842600</td>\n",
       "      <td>0.700000</td>\n",
       "      <td>0.000</td>\n",
       "      <td>0.103</td>\n",
       "      <td>0.791</td>\n",
       "      <td>0.107</td>\n",
       "    </tr>\n",
       "    <tr>\n",
       "      <th>2</th>\n",
       "      <td>2021-10-07</td>\n",
       "      <td>AbbVie's Upadacitinib (RINVOQ®) Met Primary an...</td>\n",
       "      <td>109.779999</td>\n",
       "      <td>111.790001</td>\n",
       "      <td>109.559998</td>\n",
       "      <td>110.870003</td>\n",
       "      <td>109.541969</td>\n",
       "      <td>7842600</td>\n",
       "      <td>0.433333</td>\n",
       "      <td>0.200</td>\n",
       "      <td>0.000</td>\n",
       "      <td>1.000</td>\n",
       "      <td>0.000</td>\n",
       "    </tr>\n",
       "    <tr>\n",
       "      <th>3</th>\n",
       "      <td>2021-10-07</td>\n",
       "      <td>AbbVie's RINVOQ® (upadacitinib) Met Primary an...</td>\n",
       "      <td>109.779999</td>\n",
       "      <td>111.790001</td>\n",
       "      <td>109.559998</td>\n",
       "      <td>110.870003</td>\n",
       "      <td>109.541969</td>\n",
       "      <td>7842600</td>\n",
       "      <td>0.400000</td>\n",
       "      <td>0.050</td>\n",
       "      <td>0.000</td>\n",
       "      <td>1.000</td>\n",
       "      <td>0.000</td>\n",
       "    </tr>\n",
       "    <tr>\n",
       "      <th>4</th>\n",
       "      <td>2021-10-06</td>\n",
       "      <td>Psychedelic Medicine Start Up Clairvoyant Ther...</td>\n",
       "      <td>109.300003</td>\n",
       "      <td>109.669998</td>\n",
       "      <td>108.150002</td>\n",
       "      <td>109.320000</td>\n",
       "      <td>108.010536</td>\n",
       "      <td>5710300</td>\n",
       "      <td>0.200000</td>\n",
       "      <td>-0.025</td>\n",
       "      <td>0.000</td>\n",
       "      <td>0.870</td>\n",
       "      <td>0.130</td>\n",
       "    </tr>\n",
       "    <tr>\n",
       "      <th>...</th>\n",
       "      <td>...</td>\n",
       "      <td>...</td>\n",
       "      <td>...</td>\n",
       "      <td>...</td>\n",
       "      <td>...</td>\n",
       "      <td>...</td>\n",
       "      <td>...</td>\n",
       "      <td>...</td>\n",
       "      <td>...</td>\n",
       "      <td>...</td>\n",
       "      <td>...</td>\n",
       "      <td>...</td>\n",
       "      <td>...</td>\n",
       "    </tr>\n",
       "    <tr>\n",
       "      <th>248</th>\n",
       "      <td>2019-09-13</td>\n",
       "      <td>Thinking about buying stock in AbbVie, Aurora ...</td>\n",
       "      <td>71.150002</td>\n",
       "      <td>71.510002</td>\n",
       "      <td>70.480003</td>\n",
       "      <td>70.510002</td>\n",
       "      <td>62.837143</td>\n",
       "      <td>8135600</td>\n",
       "      <td>0.000000</td>\n",
       "      <td>0.000</td>\n",
       "      <td>0.000</td>\n",
       "      <td>0.898</td>\n",
       "      <td>0.102</td>\n",
       "    </tr>\n",
       "    <tr>\n",
       "      <th>249</th>\n",
       "      <td>2019-09-10</td>\n",
       "      <td>Advances in Biotechnology May Offer Cancer Pat...</td>\n",
       "      <td>66.070000</td>\n",
       "      <td>68.180000</td>\n",
       "      <td>65.650002</td>\n",
       "      <td>68.180000</td>\n",
       "      <td>60.760704</td>\n",
       "      <td>12155700</td>\n",
       "      <td>0.000000</td>\n",
       "      <td>0.000</td>\n",
       "      <td>0.308</td>\n",
       "      <td>0.490</td>\n",
       "      <td>0.203</td>\n",
       "    </tr>\n",
       "    <tr>\n",
       "      <th>250</th>\n",
       "      <td>2019-09-06</td>\n",
       "      <td>AbbVie Declares Quarterly Dividend</td>\n",
       "      <td>67.260002</td>\n",
       "      <td>68.120003</td>\n",
       "      <td>67.000000</td>\n",
       "      <td>67.620003</td>\n",
       "      <td>60.261642</td>\n",
       "      <td>7502500</td>\n",
       "      <td>0.000000</td>\n",
       "      <td>0.000</td>\n",
       "      <td>0.000</td>\n",
       "      <td>1.000</td>\n",
       "      <td>0.000</td>\n",
       "    </tr>\n",
       "    <tr>\n",
       "      <th>251</th>\n",
       "      <td>2019-08-29</td>\n",
       "      <td>AbbVie Discontinues Rovalpituzumab Tesirine (R...</td>\n",
       "      <td>66.730003</td>\n",
       "      <td>67.029999</td>\n",
       "      <td>65.959999</td>\n",
       "      <td>66.220001</td>\n",
       "      <td>59.013988</td>\n",
       "      <td>6011900</td>\n",
       "      <td>0.000000</td>\n",
       "      <td>0.000</td>\n",
       "      <td>0.000</td>\n",
       "      <td>1.000</td>\n",
       "      <td>0.000</td>\n",
       "    </tr>\n",
       "    <tr>\n",
       "      <th>252</th>\n",
       "      <td>2019-08-27</td>\n",
       "      <td>AbbVie to Present at the Morgan Stanley Health...</td>\n",
       "      <td>66.669998</td>\n",
       "      <td>66.980003</td>\n",
       "      <td>65.489998</td>\n",
       "      <td>65.669998</td>\n",
       "      <td>58.523830</td>\n",
       "      <td>7591200</td>\n",
       "      <td>0.000000</td>\n",
       "      <td>0.000</td>\n",
       "      <td>0.000</td>\n",
       "      <td>1.000</td>\n",
       "      <td>0.000</td>\n",
       "    </tr>\n",
       "  </tbody>\n",
       "</table>\n",
       "<p>253 rows × 13 columns</p>\n",
       "</div>"
      ],
      "text/plain": [
       "          date                                               news        Open  \\\n",
       "0   2021-10-11  Allergan Aesthetics Launches Series of Initiat...  111.139999   \n",
       "1   2021-10-07  Health Canada Approves the Use of RINVOQ® (upa...  109.779999   \n",
       "2   2021-10-07  AbbVie's Upadacitinib (RINVOQ®) Met Primary an...  109.779999   \n",
       "3   2021-10-07  AbbVie's RINVOQ® (upadacitinib) Met Primary an...  109.779999   \n",
       "4   2021-10-06  Psychedelic Medicine Start Up Clairvoyant Ther...  109.300003   \n",
       "..         ...                                                ...         ...   \n",
       "248 2019-09-13  Thinking about buying stock in AbbVie, Aurora ...   71.150002   \n",
       "249 2019-09-10  Advances in Biotechnology May Offer Cancer Pat...   66.070000   \n",
       "250 2019-09-06                 AbbVie Declares Quarterly Dividend   67.260002   \n",
       "251 2019-08-29  AbbVie Discontinues Rovalpituzumab Tesirine (R...   66.730003   \n",
       "252 2019-08-27  AbbVie to Present at the Morgan Stanley Health...   66.669998   \n",
       "\n",
       "           High         Low       Close   Adj Close    Volume  subjectivity  \\\n",
       "0    111.400002  110.279999  110.339996  109.018311   4613800      0.000000   \n",
       "1    111.790001  109.559998  110.870003  109.541969   7842600      0.700000   \n",
       "2    111.790001  109.559998  110.870003  109.541969   7842600      0.433333   \n",
       "3    111.790001  109.559998  110.870003  109.541969   7842600      0.400000   \n",
       "4    109.669998  108.150002  109.320000  108.010536   5710300      0.200000   \n",
       "..          ...         ...         ...         ...       ...           ...   \n",
       "248   71.510002   70.480003   70.510002   62.837143   8135600      0.000000   \n",
       "249   68.180000   65.650002   68.180000   60.760704  12155700      0.000000   \n",
       "250   68.120003   67.000000   67.620003   60.261642   7502500      0.000000   \n",
       "251   67.029999   65.959999   66.220001   59.013988   6011900      0.000000   \n",
       "252   66.980003   65.489998   65.669998   58.523830   7591200      0.000000   \n",
       "\n",
       "     polarity  negative  neutral  positive  \n",
       "0       0.000     0.273    0.559     0.168  \n",
       "1       0.000     0.103    0.791     0.107  \n",
       "2       0.200     0.000    1.000     0.000  \n",
       "3       0.050     0.000    1.000     0.000  \n",
       "4      -0.025     0.000    0.870     0.130  \n",
       "..        ...       ...      ...       ...  \n",
       "248     0.000     0.000    0.898     0.102  \n",
       "249     0.000     0.308    0.490     0.203  \n",
       "250     0.000     0.000    1.000     0.000  \n",
       "251     0.000     0.000    1.000     0.000  \n",
       "252     0.000     0.000    1.000     0.000  \n",
       "\n",
       "[253 rows x 13 columns]"
      ]
     },
     "execution_count": 29,
     "metadata": {},
     "output_type": "execute_result"
    }
   ],
   "source": [
    "df"
   ]
  },
  {
   "cell_type": "code",
   "execution_count": 30,
   "metadata": {},
   "outputs": [],
   "source": [
    "df['change'] = df['Open'] > df ['Close']"
   ]
  },
  {
   "cell_type": "code",
   "execution_count": 31,
   "metadata": {},
   "outputs": [],
   "source": [
    "df['change'] = df['change'].replace(True,'0')"
   ]
  },
  {
   "cell_type": "code",
   "execution_count": 32,
   "metadata": {},
   "outputs": [],
   "source": [
    "df['change'] = df['change'].replace(False,'1')"
   ]
  },
  {
   "cell_type": "code",
   "execution_count": 57,
   "metadata": {},
   "outputs": [],
   "source": [
    "df = df.drop(['date', 'news'], axis = 1)"
   ]
  },
  {
   "cell_type": "code",
   "execution_count": 58,
   "metadata": {},
   "outputs": [],
   "source": [
    "X = df.drop('change', axis = 1).values\n",
    "y = df['change'].values"
   ]
  },
  {
   "cell_type": "code",
   "execution_count": 59,
   "metadata": {},
   "outputs": [],
   "source": [
    "X_train, X_test, y_train, y_test = train_test_split(X, y, test_size=0.3, random_state=42)"
   ]
  },
  {
   "cell_type": "code",
   "execution_count": 60,
   "metadata": {},
   "outputs": [],
   "source": [
    "model = LinearDiscriminantAnalysis().fit(X_train, y_train)"
   ]
  },
  {
   "cell_type": "code",
   "execution_count": 62,
   "metadata": {},
   "outputs": [],
   "source": [
    "predictions = model.predict(X_test)"
   ]
  },
  {
   "cell_type": "code",
   "execution_count": 63,
   "metadata": {},
   "outputs": [
    {
     "data": {
      "text/plain": [
       "array(['0', '1', '0', '0', '0', '1', '1', '1', '0', '1', '0', '0', '0',\n",
       "       '0', '0', '0', '0', '0', '1', '0', '0', '0', '1', '0', '0', '0',\n",
       "       '1', '0', '1', '1', '0', '1', '0', '0', '0', '0', '0', '0', '1',\n",
       "       '1', '0', '0', '0', '1', '1', '1', '0', '1', '1', '0', '1', '0',\n",
       "       '0', '1', '0', '0', '1', '0', '0', '1', '0', '1', '1', '0', '0',\n",
       "       '0', '1', '1', '1', '1', '1', '0', '0', '0', '1', '1'], dtype='<U1')"
      ]
     },
     "execution_count": 63,
     "metadata": {},
     "output_type": "execute_result"
    }
   ],
   "source": [
    "predictions"
   ]
  },
  {
   "cell_type": "code",
   "execution_count": 64,
   "metadata": {},
   "outputs": [
    {
     "data": {
      "text/plain": [
       "array(['0', '1', '0', '0', '0', '0', '1', '1', '0', '1', '0', '0', '0',\n",
       "       '0', '0', '0', '0', '0', '1', '0', '0', '0', '1', '0', '0', '0',\n",
       "       '1', '0', '1', '1', '0', '1', '0', '0', '0', '0', '0', '0', '1',\n",
       "       '1', '1', '0', '0', '1', '1', '1', '0', '1', '1', '1', '1', '1',\n",
       "       '0', '1', '1', '0', '1', '0', '0', '1', '0', '1', '1', '0', '0',\n",
       "       '0', '1', '1', '1', '1', '1', '0', '0', '0', '1', '1'],\n",
       "      dtype=object)"
      ]
     },
     "execution_count": 64,
     "metadata": {},
     "output_type": "execute_result"
    }
   ],
   "source": [
    "y_test"
   ]
  },
  {
   "cell_type": "code",
   "execution_count": 65,
   "metadata": {},
   "outputs": [],
   "source": [
    "from sklearn.metrics import classification_report"
   ]
  },
  {
   "cell_type": "code",
   "execution_count": 67,
   "metadata": {},
   "outputs": [
    {
     "name": "stdout",
     "output_type": "stream",
     "text": [
      "              precision    recall  f1-score   support\n",
      "\n",
      "           0       0.91      0.98      0.94        42\n",
      "           1       0.97      0.88      0.92        34\n",
      "\n",
      "    accuracy                           0.93        76\n",
      "   macro avg       0.94      0.93      0.93        76\n",
      "weighted avg       0.94      0.93      0.93        76\n",
      "\n"
     ]
    }
   ],
   "source": [
    "print(classification_report(y_test, predictions))"
   ]
  }
 ],
 "metadata": {
  "kernelspec": {
   "display_name": "Python 3",
   "language": "python",
   "name": "python3"
  },
  "language_info": {
   "codemirror_mode": {
    "name": "ipython",
    "version": 3
   },
   "file_extension": ".py",
   "mimetype": "text/x-python",
   "name": "python",
   "nbconvert_exporter": "python",
   "pygments_lexer": "ipython3",
   "version": "3.7.6"
  }
 },
 "nbformat": 4,
 "nbformat_minor": 4
}
